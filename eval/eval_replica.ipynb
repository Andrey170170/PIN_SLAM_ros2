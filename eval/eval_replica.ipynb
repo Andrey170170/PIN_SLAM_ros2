{
 "cells": [
  {
   "cell_type": "markdown",
   "metadata": {},
   "source": [
    "# PIN-SLAM running on the Replica RGB-D dataset\n",
    "The aim of this notebook is to serve as a reproducible entry point for the experiments outlined in the paper.\n",
    "\n",
    "Note: the results are slightly different using different random seeds and different hardwares."
   ]
  },
  {
   "cell_type": "code",
   "execution_count": 4,
   "metadata": {},
   "outputs": [
    {
     "name": "stdout",
     "output_type": "stream",
     "text": [
      "Now evaluate sequence room0\n"
     ]
    },
    {
     "ename": "FileNotFoundError",
     "evalue": "[Errno 2] No such file or directory: './data/Replica/room0/rgbd_down_ply'",
     "output_type": "error",
     "traceback": [
      "\u001b[0;31m---------------------------------------------------------------------------\u001b[0m",
      "\u001b[0;31mFileNotFoundError\u001b[0m                         Traceback (most recent call last)",
      "Cell \u001b[0;32mIn[4], line 11\u001b[0m\n\u001b[1;32m      9\u001b[0m \u001b[38;5;28;01mfor\u001b[39;00m seq_str \u001b[38;5;129;01min\u001b[39;00m seq_list:\n\u001b[1;32m     10\u001b[0m     \u001b[38;5;28mprint\u001b[39m(\u001b[38;5;124m'\u001b[39m\u001b[38;5;124mNow evaluate sequence \u001b[39m\u001b[38;5;124m'\u001b[39m\u001b[38;5;241m+\u001b[39m seq_str)\n\u001b[0;32m---> 11\u001b[0m     seq_results \u001b[38;5;241m=\u001b[39m \u001b[43mpin_slam\u001b[49m\u001b[38;5;241;43m.\u001b[39;49m\u001b[43mrun_pin_slam\u001b[49m\u001b[43m(\u001b[49m\u001b[38;5;124;43m'\u001b[39;49m\u001b[38;5;124;43m../config/rgbd_slam/run_replica.yaml\u001b[39;49m\u001b[38;5;124;43m'\u001b[39;49m\u001b[43m,\u001b[49m\u001b[43m \u001b[49m\u001b[38;5;124;43m'\u001b[39;49m\u001b[38;5;124;43mreplica\u001b[39;49m\u001b[38;5;124;43m'\u001b[39;49m\u001b[43m,\u001b[49m\u001b[43m \u001b[49m\u001b[43mseq_str\u001b[49m\u001b[43m)\u001b[49m\n\u001b[1;32m     12\u001b[0m     rmse_list\u001b[38;5;241m.\u001b[39mappend(seq_results[\u001b[38;5;241m0\u001b[39m][\u001b[38;5;124m'\u001b[39m\u001b[38;5;124mAbsoulte Trajectory Error [m]\u001b[39m\u001b[38;5;124m'\u001b[39m])\n\u001b[1;32m     14\u001b[0m rmse_mean_cm \u001b[38;5;241m=\u001b[39m \u001b[38;5;28msum\u001b[39m(rmse_list)\u001b[38;5;241m/\u001b[39m\u001b[38;5;28mlen\u001b[39m(rmse_list)\u001b[38;5;241m*\u001b[39m\u001b[38;5;241m100.0\u001b[39m\n",
      "File \u001b[0;32m~/codes/github/PIN_SLAM/eval/../pin_slam.py:68\u001b[0m, in \u001b[0;36mrun_pin_slam\u001b[0;34m(config_path, dataset_name, sequence_name, seed)\u001b[0m\n\u001b[1;32m     <a href='file:///home/yuepan/codes/github/PIN_SLAM/eval/../pin_slam.py?line=64'>65</a>\u001b[0m     load_decoder(config, geo_mlp, sem_mlp, color_mlp)\n\u001b[1;32m     <a href='file:///home/yuepan/codes/github/PIN_SLAM/eval/../pin_slam.py?line=66'>67</a>\u001b[0m \u001b[39m# dataset\u001b[39;00m\n\u001b[0;32m---> <a href='file:///home/yuepan/codes/github/PIN_SLAM/eval/../pin_slam.py?line=67'>68</a>\u001b[0m dataset \u001b[39m=\u001b[39m SLAMDataset(config)\n\u001b[1;32m     <a href='file:///home/yuepan/codes/github/PIN_SLAM/eval/../pin_slam.py?line=69'>70</a>\u001b[0m \u001b[39m# odometry tracker\u001b[39;00m\n\u001b[1;32m     <a href='file:///home/yuepan/codes/github/PIN_SLAM/eval/../pin_slam.py?line=70'>71</a>\u001b[0m tracker \u001b[39m=\u001b[39m Tracker(config, neural_points, geo_mlp, sem_mlp, color_mlp)\n",
      "File \u001b[0;32m~/codes/github/PIN_SLAM/eval/../dataset/slam_dataset.py:42\u001b[0m, in \u001b[0;36mSLAMDataset.__init__\u001b[0;34m(self, config)\u001b[0m\n\u001b[1;32m     <a href='file:///home/yuepan/codes/github/PIN_SLAM/eval/../dataset/slam_dataset.py?line=39'>40</a>\u001b[0m \u001b[39mif\u001b[39;00m config\u001b[39m.\u001b[39mpc_path \u001b[39m!=\u001b[39m \u001b[39m\"\u001b[39m\u001b[39m\"\u001b[39m:\n\u001b[1;32m     <a href='file:///home/yuepan/codes/github/PIN_SLAM/eval/../dataset/slam_dataset.py?line=40'>41</a>\u001b[0m     \u001b[39mfrom\u001b[39;00m \u001b[39mnatsort\u001b[39;00m \u001b[39mimport\u001b[39;00m natsorted \n\u001b[0;32m---> <a href='file:///home/yuepan/codes/github/PIN_SLAM/eval/../dataset/slam_dataset.py?line=41'>42</a>\u001b[0m     \u001b[39mself\u001b[39m\u001b[39m.\u001b[39mpc_filenames \u001b[39m=\u001b[39m natsorted(os\u001b[39m.\u001b[39;49mlistdir(config\u001b[39m.\u001b[39;49mpc_path)) \u001b[39m# sort files as 1, 2,… 9, 10 not 1, 10, 100 with natsort\u001b[39;00m\n\u001b[1;32m     <a href='file:///home/yuepan/codes/github/PIN_SLAM/eval/../dataset/slam_dataset.py?line=42'>43</a>\u001b[0m     \u001b[39mself\u001b[39m\u001b[39m.\u001b[39mtotal_pc_count \u001b[39m=\u001b[39m \u001b[39mlen\u001b[39m(\u001b[39mself\u001b[39m\u001b[39m.\u001b[39mpc_filenames)\n\u001b[1;32m     <a href='file:///home/yuepan/codes/github/PIN_SLAM/eval/../dataset/slam_dataset.py?line=44'>45</a>\u001b[0m \u001b[39m# pose related\u001b[39;00m\n",
      "\u001b[0;31mFileNotFoundError\u001b[0m: [Errno 2] No such file or directory: './data/Replica/room0/rgbd_down_ply'"
     ]
    }
   ],
   "source": [
    "import pin_slam\n",
    "from eval_traj_utils import get_metrics, mean_metrics\n",
    "from IPython.display import display_markdown\n",
    "\n",
    "rmse_list = []\n",
    "seq_list = ['room0', 'room1', 'room2', 'office0', 'office1', 'office2', 'office3', 'office4']\n",
    "for seq_str in seq_list:\n",
    "    print('Now evaluate sequence '+ seq_str)\n",
    "    seq_results = pin_slam.run_pin_slam('./config/rgbd_slam/run_replica.yaml', 'replica', seq_str)\n",
    "    rmse_list.append(seq_results[0]['Absoulte Trajectory Error [m]'])\n",
    "\n",
    "rmse_mean_cm = sum(rmse_list)/len(rmse_list)*100.0\n",
    "table_results = f\"# Experiment Results (Replica dataset) \\n|Metric|Value|\\n|-:|:-|\\n\"\n",
    "rmse_key = 'Absoulte Trajectory Error [cm]'\n",
    "table_results += f\"{rmse_key}|{rmse_mean_cm:.2f}|\\n\"\n",
    "display_markdown(table_results, raw=True)\n"
   ]
  }
 ],
 "metadata": {
  "interpreter": {
   "hash": "23ab7127a0bd204976f8870b5ba7b53bf3b662fb0566b25d6a446c21e6a7408b"
  },
  "kernelspec": {
   "display_name": "Python 3.8.17 ('pin')",
   "language": "python",
   "name": "python3"
  },
  "language_info": {
   "codemirror_mode": {
    "name": "ipython",
    "version": 3
   },
   "file_extension": ".py",
   "mimetype": "text/x-python",
   "name": "python",
   "nbconvert_exporter": "python",
   "pygments_lexer": "ipython3",
   "version": "3.8.19"
  },
  "orig_nbformat": 4
 },
 "nbformat": 4,
 "nbformat_minor": 2
}
